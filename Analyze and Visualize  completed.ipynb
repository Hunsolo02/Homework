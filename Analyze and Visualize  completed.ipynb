{
  "metadata": {
    "toc-autonumbering": false,
    "kernelspec": {
      "name": "python",
      "display_name": "Python (Pyodide)",
      "language": "python"
    },
    "language_info": {
      "codemirror_mode": {
        "name": "python",
        "version": 3
      },
      "file_extension": ".py",
      "mimetype": "text/x-python",
      "name": "python",
      "nbconvert_exporter": "python",
      "pygments_lexer": "ipython3",
      "version": "3.8"
    }
  },
  "nbformat_minor": 4,
  "nbformat": 4,
  "cells": [
    {
      "cell_type": "markdown",
      "source": "# I. Numpy",
      "metadata": {}
    },
    {
      "cell_type": "markdown",
      "source": "### Импортируйте NumPy",
      "metadata": {}
    },
    {
      "cell_type": "code",
      "source": "import numpy as np",
      "metadata": {},
      "execution_count": null,
      "outputs": []
    },
    {
      "cell_type": "markdown",
      "source": "### Создайте одномерный массив размера 10, заполненный нулями и пятым элемент равным 1. Трансформируйте в двумерный массив.",
      "metadata": {}
    },
    {
      "cell_type": "code",
      "source": "array = np.zeros(10)\narray[4] = 1\ntransformed_array = array.reshape((2, 5))",
      "metadata": {
        "trusted": true
      },
      "execution_count": 4,
      "outputs": []
    },
    {
      "cell_type": "markdown",
      "source": "### Создайте одномерный массив со значениями от 10 до 49 и разверните его (первый элемент становится последним). Найдите в нем все четные элементы.",
      "metadata": {}
    },
    {
      "cell_type": "code",
      "source": "array_2 = np.arrange(10, 50)\nreserved_array = np.flipud(array_2)\neven_array = array_2[array_2 % 2 == 0]",
      "metadata": {},
      "execution_count": null,
      "outputs": []
    },
    {
      "cell_type": "markdown",
      "source": "### Создайте двумерный массив 3x3 со значениями от 0 до 8",
      "metadata": {}
    },
    {
      "cell_type": "code",
      "source": "array_3 = np.arrange(9).reshape(3, 3)",
      "metadata": {},
      "execution_count": null,
      "outputs": []
    },
    {
      "cell_type": "markdown",
      "source": "### Создайте массив 4x3x2 со случайными значениями. Найти его минимум и максимум.",
      "metadata": {}
    },
    {
      "cell_type": "code",
      "source": "array_4 = np.random.randint(0, 10, size = (4, 3, 2))\narray_min = np.min(array_4)\narrau_max = np.max(array_4)",
      "metadata": {},
      "execution_count": null,
      "outputs": []
    },
    {
      "cell_type": "markdown",
      "source": "### Создайте два двумерных массива размерами 6x4 и 4x3 и произведите их матричное умножение. ",
      "metadata": {}
    },
    {
      "cell_type": "code",
      "source": "array_5 = np.arrange(24).reshape(6, 4)\narray_6 = np.arrange(12).reshape(4, 3)",
      "metadata": {},
      "execution_count": null,
      "outputs": []
    },
    {
      "cell_type": "markdown",
      "source": "### Создайте случайный двумерный массив 7x7, найти у него среднее и стандартное оклонение. Нормализуйте этот массив.",
      "metadata": {}
    },
    {
      "cell_type": "code",
      "source": "array_7 = np.random.rand(7, 7)\nmean = np.mean(array_7)\nstandart = np.std(array_7)",
      "metadata": {},
      "execution_count": null,
      "outputs": []
    },
    {
      "cell_type": "markdown",
      "source": "# II. Pandas",
      "metadata": {}
    },
    {
      "cell_type": "markdown",
      "source": "### Импортируйте: pandas, matplotlib, seaborn",
      "metadata": {}
    },
    {
      "cell_type": "code",
      "source": "import pandas as pd\nimport matplotlib.pyplot as plt\nimport seaborn as sns",
      "metadata": {},
      "execution_count": null,
      "outputs": []
    },
    {
      "cell_type": "markdown",
      "source": "### Загрузите датасет Tips из набора датасетов seaborn",
      "metadata": {}
    },
    {
      "cell_type": "code",
      "source": "dataset_tips = sns.load_dataset('tips')\ndataframe_tips = pd.DataFrame(dataset_tips)\n",
      "metadata": {},
      "execution_count": null,
      "outputs": [
        {
          "ename": "<class 'NameError'>",
          "evalue": "name 'sns' is not defined",
          "traceback": [
            "\u001b[0;31m---------------------------------------------------------------------------\u001b[0m",
            "\u001b[0;31mNameError\u001b[0m                                 Traceback (most recent call last)",
            "Cell \u001b[0;32mIn[6], line 1\u001b[0m\n\u001b[0;32m----> 1\u001b[0m dataset_tips \u001b[38;5;241m=\u001b[39m \u001b[43msns\u001b[49m\u001b[38;5;241m.\u001b[39mload_dataset(\u001b[38;5;124m'\u001b[39m\u001b[38;5;124mtips\u001b[39m\u001b[38;5;124m'\u001b[39m)\n\u001b[1;32m      2\u001b[0m dataframe_tips \u001b[38;5;241m=\u001b[39m pd\u001b[38;5;241m.\u001b[39mDataFrame(dataset_tips)\n\u001b[1;32m      3\u001b[0m \u001b[38;5;28mprint\u001b[39m(dataset_tips\u001b[38;5;241m.\u001b[39mhead())\n",
            "\u001b[0;31mNameError\u001b[0m: name 'sns' is not defined"
          ],
          "output_type": "error"
        }
      ]
    },
    {
      "cell_type": "markdown",
      "source": "### Посмотрите на первые 5 строчек",
      "metadata": {}
    },
    {
      "cell_type": "code",
      "source": "print(dataset_tips.head())",
      "metadata": {
        "trusted": true
      },
      "execution_count": 5,
      "outputs": [
        {
          "ename": "<class 'NameError'>",
          "evalue": "name 'dataset_tips' is not defined",
          "traceback": [
            "\u001b[0;31m---------------------------------------------------------------------------\u001b[0m",
            "\u001b[0;31mNameError\u001b[0m                                 Traceback (most recent call last)",
            "Cell \u001b[0;32mIn[5], line 1\u001b[0m\n\u001b[0;32m----> 1\u001b[0m \u001b[38;5;28mprint\u001b[39m(\u001b[43mdataset_tips\u001b[49m\u001b[38;5;241m.\u001b[39mhead())\n",
            "\u001b[0;31mNameError\u001b[0m: name 'dataset_tips' is not defined"
          ],
          "output_type": "error"
        }
      ]
    },
    {
      "cell_type": "markdown",
      "source": "### Узнайте сколько всего строчек и колонок в данных",
      "metadata": {}
    },
    {
      "cell_type": "code",
      "source": "print(dataset_tips.shape())",
      "metadata": {},
      "execution_count": null,
      "outputs": []
    },
    {
      "cell_type": "markdown",
      "source": "### Проверьте есть ли пропуски в данных",
      "metadata": {}
    },
    {
      "cell_type": "code",
      "source": "print(dataset_tips.isnull().sum())",
      "metadata": {},
      "execution_count": null,
      "outputs": []
    },
    {
      "cell_type": "markdown",
      "source": "### Посмотрите на распределение числовых признаков",
      "metadata": {}
    },
    {
      "cell_type": "code",
      "source": "print(dataset_tips.describe())",
      "metadata": {},
      "execution_count": null,
      "outputs": []
    },
    {
      "cell_type": "markdown",
      "source": "### Найдите максимальное значение 'total_bill'",
      "metadata": {}
    },
    {
      "cell_type": "code",
      "source": "max_total_bill = dataset_tips['total_bill'].max()",
      "metadata": {},
      "execution_count": null,
      "outputs": []
    },
    {
      "cell_type": "markdown",
      "source": "### Найдите количество курящих людей",
      "metadata": {}
    },
    {
      "cell_type": "code",
      "source": "smokers = dataset_tips[dataset_tips['smoker'] == 'Yes']\nnum_smokers = smokers['smoker'].value_counts(normalize=True)[0]*100",
      "metadata": {},
      "execution_count": null,
      "outputs": []
    },
    {
      "cell_type": "markdown",
      "source": "### Узнайте какой средний 'total_bill' в зависимости от 'day'",
      "metadata": {}
    },
    {
      "cell_type": "code",
      "source": "mean_total_bill_by_day = dataset_tips.groupby('day')['total_bill'].mean()",
      "metadata": {},
      "execution_count": null,
      "outputs": []
    },
    {
      "cell_type": "markdown",
      "source": "### Отберите строчки с 'total_bill' больше медианы и узнайте какой средний 'tip' в зависимости от 'sex'",
      "metadata": {}
    },
    {
      "cell_type": "code",
      "source": "tips_filtered = dataset_tips.query('total_bill > total_bill.median()')\nmean_tip_by_sex = tips_filtered.groupby('sex')['tip'].mean()\n",
      "metadata": {},
      "execution_count": null,
      "outputs": []
    },
    {
      "cell_type": "markdown",
      "source": "### Преобразуйте признак 'smoker' в бинарный (0-No, 1-Yes)",
      "metadata": {}
    },
    {
      "cell_type": "code",
      "source": "binary_smoker = dataset_tips.replace({'smoker': {'Yes': 1, 'No': 0}})",
      "metadata": {},
      "execution_count": null,
      "outputs": []
    },
    {
      "cell_type": "markdown",
      "source": "# III. Visualization",
      "metadata": {}
    },
    {
      "cell_type": "markdown",
      "source": "### Постройте гистограмму распределения признака 'total_bill'",
      "metadata": {}
    },
    {
      "cell_type": "code",
      "source": "plt.hist(dataset_tips['total_bill'], bins=20)\nplt.xlabel('Сумма счета')\nplt.ylabel('Количество')\nplt.title('Распределение суммы счета в ресторане')\nplt.show()",
      "metadata": {},
      "execution_count": null,
      "outputs": []
    },
    {
      "cell_type": "markdown",
      "source": "### Постройте scatterplot, представляющий взаимосвязь между признаками 'total_bill' и 'tip'",
      "metadata": {}
    },
    {
      "cell_type": "code",
      "source": "plt.scatter(dataset_tips['total_bill'], tips['tip'])\nplt.xlabel('Сумма счета')\nplt.ylabel('Чаевые')\nplt.title('Взаимосвязь суммы счета и чаевых')\nplt.show()",
      "metadata": {},
      "execution_count": null,
      "outputs": []
    },
    {
      "cell_type": "markdown",
      "source": "### Постройте pairplot",
      "metadata": {}
    },
    {
      "cell_type": "code",
      "source": "sns.pairplot(dataset_tips)",
      "metadata": {},
      "execution_count": null,
      "outputs": []
    },
    {
      "cell_type": "markdown",
      "source": "### Постройте график взаимосвязи между признаками 'total_bill' и 'day'",
      "metadata": {}
    },
    {
      "cell_type": "code",
      "source": "sns.relplot(x='total_bill', y='day', data= dataset_tips, kind='scatter')",
      "metadata": {},
      "execution_count": null,
      "outputs": []
    },
    {
      "cell_type": "markdown",
      "source": "### Постройте две гистограммы распределения признака 'tip' в зависимости от категорий 'time'",
      "metadata": {}
    },
    {
      "cell_type": "code",
      "source": "g = sns.FacetGrid(dataset_tips, col='time')\ng.map(sns.histplot, 'tip')",
      "metadata": {},
      "execution_count": null,
      "outputs": []
    },
    {
      "cell_type": "markdown",
      "source": "### Постройте два графика scatterplot, представляющих взаимосвязь между признаками 'total_bill' и 'tip' один для Male, другой для Female и раскрасьте точки в зависимоти от признака 'smoker'",
      "metadata": {}
    },
    {
      "cell_type": "code",
      "source": "male = dataset_tips[dataset_tips['sex'] == 'Male']\nfemale = dataset_tips[dataset_tips['sex'] == 'Female']\nsns.scatterplot(x='total_bill', y='tip', hue='smoker', data=male)\nsns.scatterplot(x='total_bill', y='tip', hue='smoker', data=female)",
      "metadata": {},
      "execution_count": null,
      "outputs": []
    },
    {
      "cell_type": "markdown",
      "source": "## Сделайте выводы по анализу датасета и построенным графикам. По желанию можете продолжить анализ данных и также отразить это в выводах.",
      "metadata": {}
    },
    {
      "cell_type": "code",
      "source": "Проведенный анализ датасета показал, что в среднем клиенты ресторана оставляют чаевые в размере около 16% от суммы счета,\nпри этом медиана по чаевым составляет 15%. Наиболее часто встречающаяся сумма чаевых - 2-3 доллара.\n\nИз графиков scatterplot для Male и Female видно, что сумма чаевых и общая сумма счета примерно линейно зависят друг от друга,\nто есть чем больше счет, тем больше и чаевые.\n\nОднако, по графикам также видно, что сумма чаевых и сумма счета могут варьироваться в зависимости от пола и того курит ли клиент или нет.\nНапример, на графиках для мужчин видно, что курящие клиенты имеют чуть большую сумму счета и оставляют большие чаевые, чем некурящие.\nНа графиках для женщин же курильщицы имеют примерно такую же сумму счета, что и некурящие, но чаевые у них слегка больше",
      "metadata": {},
      "execution_count": null,
      "outputs": []
    }
  ]
}