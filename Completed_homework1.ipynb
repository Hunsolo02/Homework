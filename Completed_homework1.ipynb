{
 "cells": [
  {
   "cell_type": "code",
   "execution_count": 1,
   "id": "a2433b5c-b12a-44cf-aba3-575aad3fd5ff",
   "metadata": {},
   "outputs": [
    {
     "ename": "IndentationError",
     "evalue": "expected an indented block (2104684481.py, line 33)",
     "output_type": "error",
     "traceback": [
      "\u001b[1;36m  File \u001b[1;32m\"C:\\Users\\HP P Gaming\\AppData\\Local\\Temp\\ipykernel_1728\\2104684481.py\"\u001b[1;36m, line \u001b[1;32m33\u001b[0m\n\u001b[1;33m    \u001b[0m\n\u001b[1;37m    ^\u001b[0m\n\u001b[1;31mIndentationError\u001b[0m\u001b[1;31m:\u001b[0m expected an indented block\n"
     ]
    }
   ],
   "source": [
    "#Задача №1\n",
    "def share_bread(N, K):\n",
    "    x= K//N\n",
    "    y= K%N\n",
    "    return x, y\n",
    "\n",
    "#Задача №2\n",
    "def leap_year(year):\n",
    "    if year%4 == 0 and year%100 != 0 and year%400 == 0:\n",
    "        return 'YOU SHALL PASS'\n",
    "    else:\n",
    "        return 'YOU SHALL NOT PASS'\n",
    "    \n",
    "#Задача №3\n",
    "def amulet_area(a, b, c):\n",
    "  import math\n",
    "  p = (a+b+c)/2\n",
    "  S = math.sqrt(p*(p-a)*(p-b)*(p-c))\n",
    "  return Sэ\n",
    "\n",
    "#Задача №4\n",
    "def cal_euclidean(a, b):\n",
    "  import numpy as np\n",
    "  distance = np.sqrt(np.dot(a-b, a-b))\n",
    "  return distance \n",
    "\n",
    "def cal_manhattan(a, b):\n",
    "  import numpy as np\n",
    "  distance = np.sum(np.abs(a-b))\n",
    "  return distance\n",
    "\n",
    "def cal_cosine(a, b):\n",
    "    from numpy import dot\n",
    "    from numpy.linalg import norm\n",
    "    distance = dot(a, b)/(norm(a)*norm(b))\n",
    "    return distance\n",
    "\n",
    "#Задача №5\n",
    "my_array = ## Your code here\n",
    "print(np.max(my_array), np.min(my_array))\n",
    "print(my_array)"
   ]
  },
  {
   "cell_type": "code",
   "execution_count": null,
   "id": "73b778ad-ef90-4e31-b502-b33b4844ee89",
   "metadata": {},
   "outputs": [],
   "source": []
  },
  {
   "cell_type": "code",
   "execution_count": null,
   "id": "6caa46f6-a63e-4cdf-8622-fd9c48682353",
   "metadata": {},
   "outputs": [],
   "source": []
  },
  {
   "cell_type": "code",
   "execution_count": null,
   "id": "194711b8-614a-4358-8643-d388fb8e926c",
   "metadata": {},
   "outputs": [],
   "source": []
  },
  {
   "cell_type": "code",
   "execution_count": null,
   "id": "21a543e3-9844-4a93-b1a1-0c7908843743",
   "metadata": {},
   "outputs": [],
   "source": []
  }
 ],
 "metadata": {
  "kernelspec": {
   "display_name": "Python 3 (ipykernel)",
   "language": "python",
   "name": "python3"
  },
  "language_info": {
   "codemirror_mode": {
    "name": "ipython",
    "version": 3
   },
   "file_extension": ".py",
   "mimetype": "text/x-python",
   "name": "python",
   "nbconvert_exporter": "python",
   "pygments_lexer": "ipython3",
   "version": "3.9.13"
  }
 },
 "nbformat": 4,
 "nbformat_minor": 5
}
